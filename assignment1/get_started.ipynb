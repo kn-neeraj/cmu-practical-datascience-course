{
 "cells": [
  {
   "cell_type": "markdown",
   "metadata": {},
   "source": [
    "# Getting started (20 pts)\n",
    "\n",
    "To get used to the submission of Jupyter notebooks, fill in the following function signatures according to their specifications. Upon finishing this section, submit your notebook to Autolab and you can view your grade. We are not looking for complicated solutions. "
   ]
  },
  {
   "cell_type": "code",
   "execution_count": 26,
   "metadata": {},
   "outputs": [
    {
     "name": "stdout",
     "output_type": "stream",
     "text": [
      "CPU times: user 5 µs, sys: 0 ns, total: 5 µs\n",
      "Wall time: 8.11 µs\n"
     ]
    }
   ],
   "source": [
    "%%time\n",
    "# rotate(l,n) takes a list l and an integer n, and returns a new list with the first n elements moved to the end. \n",
    "#\n",
    "# Example: \n",
    "#   rotate([1,2,3,4], 3) -> [4,1,2,3]\n",
    "\n",
    "def rotate_list(l, n):\n",
    "    # Write solution here\n",
    "    return [n] + l\n",
    "    \n",
    "# reverse_dict(d) takes a dictionary d, and returns a new dictionary with the keys and values swapped.\n",
    "# Assume all values of the given dictionary are unique, i.e. don't worry about conflicting keys. \n",
    "#\n",
    "# Example: \n",
    "#   reverse_dict({\"apple\" : \"red\", \"banana\" : \"yellow\"}) -> {\"red\" : \"apple\", \"yellow\" : \"banana\"}\n",
    "def reverse_dict(d):\n",
    "    # Write solution here\n",
    "    return {v:k for k,v in d.items()}"
   ]
  },
  {
   "cell_type": "markdown",
   "metadata": {},
   "source": [
    "### Autolab Macros\n",
    "\n",
    "To allow you to write your own testing code, we provide the two macros which you may use to hide code from the autograder (e.g. tests or exploratory code) so that you don't need to manually clean notebooks prior to submission. \n",
    "\n",
    "Namely, all code between `AUTOLAB_IGNORE_START` and `AUTOLAB_IGNORE_STOP` will be ignored, so you can safely submit the notebook with the following cell.  "
   ]
  },
  {
   "cell_type": "code",
   "execution_count": 27,
   "metadata": {},
   "outputs": [
    {
     "name": "stdout",
     "output_type": "stream",
     "text": [
      "[5, 1, 2, 3, 4]\n",
      "{'a': '1', 'b': '2', 'c': '3'}\n"
     ]
    }
   ],
   "source": [
    "# AUTOLAB_IGNORE_START\n",
    "\n",
    "print(rotate_list([1,2,3,4], 5))\n",
    "print(reverse_dict({\"1\":\"a\",\"2\":\"b\", \"3\":\"c\"}))\n",
    "\n",
    "# AUTOLAB_IGNORE_STOP"
   ]
  },
  {
   "cell_type": "markdown",
   "metadata": {},
   "source": [
    "As a simple exercise, the following line will cause your notebook to throw an error and fail to run on Autolab. Rather than deleting it, you can surround it with macros. "
   ]
  },
  {
   "cell_type": "code",
   "execution_count": 29,
   "metadata": {},
   "outputs": [
    {
     "ename": "AssertionError",
     "evalue": "",
     "output_type": "error",
     "traceback": [
      "\u001b[0;31m---------------------------------------------------------------------------\u001b[0m",
      "\u001b[0;31mAssertionError\u001b[0m                            Traceback (most recent call last)",
      "\u001b[0;32m<ipython-input-29-e5d117b30eae>\u001b[0m in \u001b[0;36m<module>\u001b[0;34m\u001b[0m\n\u001b[1;32m      1\u001b[0m \u001b[0;31m# AUTOLAB_IGNORE_START\u001b[0m\u001b[0;34m\u001b[0m\u001b[0;34m\u001b[0m\u001b[0;34m\u001b[0m\u001b[0m\n\u001b[0;32m----> 2\u001b[0;31m \u001b[0;32massert\u001b[0m \u001b[0;32mFalse\u001b[0m\u001b[0;34m\u001b[0m\u001b[0;34m\u001b[0m\u001b[0m\n\u001b[0m\u001b[1;32m      3\u001b[0m \u001b[0;31m# AUTOLAB_IGNORE_STOP\u001b[0m\u001b[0;34m\u001b[0m\u001b[0;34m\u001b[0m\u001b[0;34m\u001b[0m\u001b[0m\n",
      "\u001b[0;31mAssertionError\u001b[0m: "
     ]
    }
   ],
   "source": [
    "# AUTOLAB_IGNORE_START\n",
    "assert False\n",
    "# AUTOLAB_IGNORE_STOP"
   ]
  },
  {
   "cell_type": "code",
   "execution_count": null,
   "metadata": {},
   "outputs": [],
   "source": []
  }
 ],
 "metadata": {
  "anaconda-cloud": {},
  "kernelspec": {
   "display_name": "Python 3",
   "language": "python",
   "name": "python3"
  },
  "language_info": {
   "codemirror_mode": {
    "name": "ipython",
    "version": 3
   },
   "file_extension": ".py",
   "mimetype": "text/x-python",
   "name": "python",
   "nbconvert_exporter": "python",
   "pygments_lexer": "ipython3",
   "version": "3.7.1"
  }
 },
 "nbformat": 4,
 "nbformat_minor": 1
}

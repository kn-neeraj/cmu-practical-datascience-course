{
 "cells": [
  {
   "cell_type": "markdown",
   "metadata": {},
   "source": [
    "# Introduction\n",
    "\n",
    "In this problem you will be analysing time series data. Specifically, the data that you will be working with has been collecting via Pittsburgh's TrueTime system which is available publicly here http://truetime.portauthority.org/bustime/login.jsp. If you're interested, you can request an API key and collect the data yourself (the process is just submitting a form), however we've already collected some smaller subset of the available data for the purposes of this assignment. "
   ]
  },
  {
   "cell_type": "markdown",
   "metadata": {},
   "source": [
    "## Part 1 TrueTime dataset\n",
    "\n",
    "The bus data has been collected by querying the TrueTime API every minute. Each time, we make two requests: \n",
    "\n",
    "1. We request vehicle information for every bus running on the 61A, 61B, 61C, and 61D bus routes. \n",
    "2. We request all available time predictions for the CMU / Morewood bus stop in both outbound and inbound directions. \n",
    "\n",
    "The results are given as XML, which are consequently parsed and stored within a sqlite database with two tables, one for vehicles and one for predictions. The table for the vehicles is organized in the following manner.  \n",
    "\n",
    "| | **vehicles**             | \n",
    "|----------|-------------|\n",
    "| vid      | vehicle identifier |\n",
    "| tmstmp | date and time of the last positional update of the vehicle |\n",
    "| lat | latitude position of the vehicle in decimal degrees |\n",
    "| lon | longitude position of the vehicle in decimal degrees |\n",
    "| hdg | heading of vehicle as a 360 degree value (0 is north, 90 is east, 180 is south, and 270 is west |\n",
    "| pid | pattern ID of trip currently being executed | \n",
    "| rt | route that is currently being execute | \n",
    "| des | destination of the current trip | \n",
    "| pdist | linear distance (feet) vehicle has traveled into the current pattern |\n",
    "|  spd | speed as reported from the vehicle in miles per hour | \n",
    "| tablockid | TA's version of the scheduled block identifier for work currently behind performed |\n",
    "| tatripid | TA's version of the scheduled trip identifier for the vehicle's current trip |\n",
    "\n",
    "The table for the predictions is organized in the following manner\n",
    "\n",
    "| | **predictions** | \n",
    "|---|---|\n",
    "| tmstmp | date and time the prediction was generated |\n",
    "| typ | type of prediction (A for arrival, D for a departure) | \n",
    "| stpnm | display name of the stop for which this prediction was generated |\n",
    "| stpid | unique identifier representing the stop for which this prediction was generated |\n",
    "| vid | unique ID of the vehicle for which this prediction was generated |\n",
    "| dstp | linear distance (feet) left to be traveled by the vehicle before it reaches the stop for which this prediction was generated |\n",
    "| rt | route for which this prediction was generated | \n",
    "| rtdd | language-specific route designator meant for display |\n",
    "| rtdir | direction of travel of the route associated with this prediction |\n",
    "| des | final destination of the vehicle associated with this prediction |\n",
    "| prdtm | predicted date and time of a vehicle's arrival or departure to the stop associated with this prediction | \n",
    "| dly | true if the vehicle is delayed, only present if the vehicle that generated this prediction is delayed | \n",
    "| tablockid | TA's version of the scheduled block identifier for work currently behind performed |\n",
    "| tatripid | TA's version of the scheduled trip identifier for the vehicle's current trip |\n",
    "    "
   ]
  },
  {
   "cell_type": "markdown",
   "metadata": {},
   "source": [
    "First you will need to read in the data. We have dumped the raw form of the data into a sqlite database, which you can read directly into a pandas dataframe. \n",
    "\n",
    "Since this data has not been processed at all by the course staff, you will need to fix and canonicalize a few things. \n",
    "\n",
    "### Specification\n",
    "\n",
    "1. Sometimes the TrueTime API returns a bogus result that has all the attributes but empty strings for all the values. You should inspect the data for clearly useless entries and remove all offending rows. \n",
    "\n",
    "2. If you check the datatype of each column, you'll notice that most columns are stored as objects. However, some of these columns are in fact integers or floats, and if you wish to run numerical functions on them (like with numpy) you'll need to convert the columns to the correct type. Note that strings show up as objects. This is because the underlying implementation of Pandas uses numpy arrays, which need fixed-size entries, so they store pointers to strings. Your dataframe datatypes should match the following order and types (your datatypes may be 32bit instead of 64bit depending on your platform): \n",
    "\n",
    "   ```python\n",
    "   >>> vdf.dtypes\n",
    "   vid                   int64\n",
    "   tmstmp       datetime64[ns]\n",
    "   lat                 float64\n",
    "   lon                 float64\n",
    "   hdg                   int64\n",
    "   pid                   int64\n",
    "   rt                   object\n",
    "   des                  object\n",
    "   pdist                 int64\n",
    "   spd                   int64\n",
    "   tablockid            object\n",
    "   tatripid              int64\n",
    "   dtype: object\n",
    "\n",
    "   >>> pdf.dtypes\n",
    "   tmstmp       datetime64[ns]\n",
    "   typ                  object\n",
    "   stpnm                object\n",
    "   stpid                 int64\n",
    "   vid                   int64\n",
    "   dstp                  int64\n",
    "   rt                   object\n",
    "   rtdd                 object\n",
    "   rtdir                object\n",
    "   des                  object\n",
    "   prdtm        datetime64[ns]\n",
    "   dly                    bool\n",
    "   tablockid            object\n",
    "   tatripid              int64\n",
    "   dtype: object\n",
    "   ```\n",
    "\n",
    "3. As you may have noticed from the above data types, you should convert all timestamps to Pandas datetime objects. "
   ]
  },
  {
   "cell_type": "code",
   "execution_count": 22,
   "metadata": {},
   "outputs": [],
   "source": [
    "import pandas as pd\n",
    "import sqlite3\n",
    "import numpy as np\n",
    "pd.set_option('display.max_rows', 500)"
   ]
  },
  {
   "cell_type": "code",
   "execution_count": 23,
   "metadata": {},
   "outputs": [],
   "source": [
    "nans = lambda df: df[df.isna().any(axis=1)]"
   ]
  },
  {
   "cell_type": "code",
   "execution_count": 105,
   "metadata": {
    "scrolled": false
   },
   "outputs": [],
   "source": [
    "def load_data(fname):\n",
    "    \"\"\" Read the given database into two pandas dataframes. \n",
    "    \n",
    "    Args: \n",
    "        fname (string): filename of sqlite3 database to read\n",
    "        \n",
    "    Returns:\n",
    "        (pd.DataFrame, pd.DataFrame): a tuple of two dataframes, the first for the vehicle data and the \n",
    "                                      second for the prediction data. \n",
    "    \"\"\"\n",
    "    conn = sqlite3.connect(fname)\n",
    "    v_df = pd.read_sql_query('SELECT * FROM vehicles', conn)\n",
    "    p_df = pd.read_sql_query('SELECT * FROM predictions', conn)\n",
    "    v_df = v_df.drop(v_df[v_df['vid'] == ''].index)\n",
    "    p_df = p_df.drop(p_df[p_df['vid'] == ''].index)\n",
    "    return (v_df, p_df)"
   ]
  },
  {
   "cell_type": "code",
   "execution_count": 106,
   "metadata": {
    "scrolled": true
   },
   "outputs": [
    {
     "name": "stdout",
     "output_type": "stream",
     "text": [
      "vid          object\n",
      "tmstmp       object\n",
      "lat          object\n",
      "lon          object\n",
      "hdg          object\n",
      "pid          object\n",
      "rt           object\n",
      "des          object\n",
      "pdist        object\n",
      "spd          object\n",
      "tablockid    object\n",
      "tatripid     object\n",
      "dtype: object\n",
      "tmstmp       object\n",
      "typ          object\n",
      "stpnm        object\n",
      "stpid         int64\n",
      "vid          object\n",
      "dstp         object\n",
      "rt           object\n",
      "rtdd         object\n",
      "rtdir        object\n",
      "des          object\n",
      "prdtm        object\n",
      "dly          object\n",
      "tablockid    object\n",
      "tatripid     object\n",
      "dtype: object\n",
      "215473\n",
      "143345\n",
      "    vid          tmstmp      lat      lon  hdg   pid   rt        des  pdist  \\\n",
      "0  5549  20160811 10:56  40.4395  -79.997  114  4521  61A  Swissvale   1106   \n",
      "1  5287  20160811 10:56   40.438 -79.9274   83  4521  61A  Swissvale  22921   \n",
      "2  6114  20160811 10:56  40.4189  -79.884  128  4521  61A  Swissvale  48014   \n",
      "3  5646  20160811 10:56  40.4412  -79.893  274  4663  61A   Downtown  15953   \n",
      "4  5443  20160811 10:56  40.4364 -79.9684  269  4663  61A   Downtown  40770   \n",
      "\n",
      "  spd tablockid tatripid  \n",
      "0   0  061A-164     6691  \n",
      "1  20  061A-163     6687  \n",
      "2  12  061A-162     6683  \n",
      "3  23  061A-166     6433  \n",
      "4  30  061A-165     6430  \n",
      "           tmstmp typ                         stpnm  stpid   vid   dstp   rt  \\\n",
      "0  20160811 10:56   A   Forbes Ave opp Morewood Ave   7117  3201    398  61D   \n",
      "1  20160811 10:56   A  Forbes Ave past Morewood Ave   4407  6121   8004  61C   \n",
      "2  20160811 10:56   A  Forbes Ave past Morewood Ave   4407  3244  13925  61B   \n",
      "3  20160811 10:56   A   Forbes Ave opp Morewood Ave   7117  3202  11981  61B   \n",
      "4  20160811 10:56   A   Forbes Ave opp Morewood Ave   7117  3249  14013  61C   \n",
      "\n",
      "  rtdd     rtdir                des           prdtm dly tablockid tatripid  \n",
      "0  61D  OUTBOUND  Murray-Waterfront  20160811 10:57      061D-276     6688  \n",
      "1  61C   INBOUND           Downtown  20160811 11:05      061C-232     7377  \n",
      "2  61B   INBOUND           Downtown  20160811 11:08      061B-196     5744  \n",
      "3  61B  OUTBOUND          Braddock   20160811 11:09      061B-195     6689  \n",
      "4  61C  OUTBOUND        McKeesport   20160811 11:10      061C-229     6690  \n"
     ]
    }
   ],
   "source": [
    "# AUTOLAB_IGNORE_START\n",
    "vdf, pdf = load_data('bus_aug23.db')\n",
    "\n",
    "\n",
    "# Inspect the datatypes of the dataframe\n",
    "print(vdf.dtypes)\n",
    "print(pdf.dtypes)\n",
    "\n",
    "print(len(vdf))\n",
    "print(len(pdf))\n",
    "\n",
    "# Inspect the first five entries of the dataframe\n",
    "print(vdf.head())\n",
    "print(pdf.head())\n",
    "# AUTOLAB_IGNORE_STOP"
   ]
  },
  {
   "cell_type": "code",
   "execution_count": 107,
   "metadata": {},
   "outputs": [
    {
     "name": "stdout",
     "output_type": "stream",
     "text": [
      "vid                   int64\n",
      "tmstmp       datetime64[ns]\n",
      "lat                 float64\n",
      "lon                 float64\n",
      "hdg                   int64\n",
      "pid                   int64\n",
      "rt                   object\n",
      "des                  object\n",
      "pdist                 int64\n",
      "spd                   int64\n",
      "tablockid            object\n",
      "tatripid              int64\n",
      "dtype: object\n"
     ]
    },
    {
     "data": {
      "text/plain": [
       "tmstmp       datetime64[ns]\n",
       "typ                  object\n",
       "stpnm                object\n",
       "stpid                 int64\n",
       "vid                   int64\n",
       "dstp                  int64\n",
       "rt                   object\n",
       "rtdd                 object\n",
       "rtdir                object\n",
       "des                  object\n",
       "prdtm        datetime64[ns]\n",
       "dly                    bool\n",
       "tablockid            object\n",
       "tatripid              int64\n",
       "dtype: object"
      ]
     },
     "execution_count": 107,
     "metadata": {},
     "output_type": "execute_result"
    }
   ],
   "source": [
    "#convert to proper data types.\n",
    "#vdf['vid'] = vdf['vid'].astype('int')\n",
    "vdf = vdf.astype({'vid':int,'lat':float,'lon':float, 'hdg':int, 'pid':int, 'pdist':int, 'spd':int, 'tatripid':int})\n",
    "vdf['tmstmp'] = pd.to_datetime(vdf['tmstmp'])\n",
    "pdf = pdf.astype({'stpid':int, 'vid':int, 'dstp':int, 'tatripid':int, 'dly':bool})\n",
    "pdf['tmstmp'] = pd.to_datetime(pdf['tmstmp'])\n",
    "pdf['prdtm'] = pd.to_datetime(pdf['prdtm'])\n",
    "print(vdf.dtypes)\n",
    "pdf.dtypes"
   ]
  },
  {
   "cell_type": "markdown",
   "metadata": {},
   "source": [
    "## Part 2 Splitting Trips\n",
    "\n",
    "For this assignment, we will focus on the vehicles dataframe and come back to the predictions later. The next thing we will do is take the dataframe of vehicles and and split it into individual trips. Specifically, a trip is the sequence of rows corresponding to a single bus, typically at one minute intervals, from the start of its route to the end of its route. We will represent each trip as an individual dataframe, and create a list of trip dataframes to represent all the trips.\n",
    "\n",
    "### Specification\n",
    "1. All entries in a trip should belong to a single route, destination, pattern, and vehicle.\n",
    "\n",
    "2. The entries in a trip should have (not strictly) monotonically increasing timestamps and distance traveled. \n",
    "\n",
    "3. Each trip should be of maximal size. I.e. you should sort first by time, and secondarily by pdist, and use a drop in a pdist as an indication that a new trip has started. \n",
    "\n",
    "3. Each trip should have the timestamp set as the index, named `tmstmp`"
   ]
  },
  {
   "cell_type": "code",
   "execution_count": 27,
   "metadata": {},
   "outputs": [
    {
     "name": "stdout",
     "output_type": "stream",
     "text": [
      "878 47286\n",
      "931 54694\n",
      "931 62888\n",
      "1024 50605\n"
     ]
    }
   ],
   "source": [
    "def split_trips(df):\n",
    "    \"\"\" Splits the dataframe of vehicle data into a list of dataframes for each individual trip. \n",
    "    \n",
    "    Args: \n",
    "        df (pd.DataFrame): A dataframe containing vehicle data\n",
    "        \n",
    "    Returns: \n",
    "        (list): A list of dataframes, where each dataFrame contains vehicle data for a single trip\n",
    "    \"\"\"\n",
    "    trips = []\n",
    "    num_rows = 0\n",
    "    for route in df['rt'].unique():\n",
    "        for vid in (df[(df['rt'] == route)]['vid']).unique():\n",
    "            for des in (df[(df['rt'] == route) & (df['vid'] == vid)]['des']).unique():\n",
    "                for tatripid in (df[(df['rt'] == route) & (df['vid'] == vid) & (df['des'] == des)]['tatripid']).unique():\n",
    "                    trip = df[(df['rt'] == route) & (df['vid'] == vid) & (df['des'] == des) & (df['tatripid'] == tatripid)]\n",
    "                    num_rows += trip.shape[0]\n",
    "                    trips.append(trip)\n",
    "    print(len(trips), num_rows)\n",
    "    return trips        \n",
    "\n",
    "#trips = split_trips(vdf)\n",
    "# # AUTOLAB_IGNORE_START    \n",
    "all_trips = { rt : split_trips(vdf[vdf[\"rt\"]==rt]) for rt in [\"61A\", \"61B\", \"61C\", \"61D\"] }"
   ]
  },
  {
   "cell_type": "markdown",
   "metadata": {},
   "source": [
    "You should verify that your code meets the specification above. Use this cell to write tests that check the validity of your resulting output. For example,you should test that the total number of datapoints in the list of dataframes is the same as the number of datapoints in the original dataframe. "
   ]
  },
  {
   "cell_type": "code",
   "execution_count": 7,
   "metadata": {},
   "outputs": [
    {
     "name": "stdout",
     "output_type": "stream",
     "text": [
      "True\n"
     ]
    }
   ],
   "source": [
    "# Test the validity of your code here\n",
    "total_trip_rows = 0\n",
    "for rt,trips_list in all_trips.items():\n",
    "    for trip in trips_list:\n",
    "        total_trip_rows += trip.shape[0]\n",
    "print(vdf.shape[0] == total_trip_rows)"
   ]
  },
  {
   "cell_type": "markdown",
   "metadata": {},
   "source": [
    "## Part 3 Sliding Averages\n",
    "\n",
    "Let's compute a basic statistic for time series / sequential data, which is the sliding average. Sliding averages are typically used to smooth out short-term fluctuations to see the long-term patterns. \n",
    "\n",
    "While it would be fairly simple to directly construct a list of all the sliding averages from the existing dataset, in reality, new TrueTime bus data is constantly becoming available. We want to avoid recomputing all the sliding averages every time a new data point comes in. Thus, instead of storing an unbounded list of datapoints, we will construct a class which does constant time updates as new data comes in. \n",
    "\n",
    "### Specifications\n",
    "1. Your function should not use more than O(k) memory, where k is the number of elements to average. \n",
    "2. Each update should do O(1) work. \n",
    "3. We will use a centered sliding average: we will average the k values both before and after the center point, averaging a total of 2k+1 elements. Note that k=0 will just return the stream without any averaging. \n",
    "4. Since the average depends on both past and future elements, the `update` function will not be able to output anything useful for the first k elements. You should output `None` during these iterations. We suggest you signify the end of the stream by calling `update(None)` k times, during which you should output the last k sliding averages. \n",
    "4. When at the beginning or end of a list, just compute the average of elements that exist. \n",
    "5. As usual, you should test the correctness of your code. You can do this in the same cell or make a new cell.\n",
    "\n",
    "Note: you may find the `collections.deque` data structure to be helpful. \n",
    "\n",
    "Example: \n",
    "```python\n",
    ">>> compute_sliding_averages(pd.Series([1,2,3,4,5]),1)\n",
    "pdf.Series([1.5, 2.0, 3.0, 4.0, 4.5])\n",
    "```"
   ]
  },
  {
   "cell_type": "code",
   "execution_count": 28,
   "metadata": {
    "scrolled": true
   },
   "outputs": [
    {
     "data": {
      "text/plain": [
       "0    1.5\n",
       "1    2.0\n",
       "2    3.0\n",
       "3    4.0\n",
       "4    5.0\n",
       "5    5.5\n",
       "dtype: float64"
      ]
     },
     "execution_count": 28,
     "metadata": {},
     "output_type": "execute_result"
    }
   ],
   "source": [
    "from collections import deque\n",
    "from statistics import mean\n",
    "\n",
    "class SlidingAverage:\n",
    "    def __init__(self,k):\n",
    "        \"\"\" Initializes a sliding average calculator which keeps track of the average of the last k seen elements. \n",
    "        \n",
    "        Args: \n",
    "            k (int): the number of elements to average (the half-width of the sliding average window)\n",
    "        \"\"\"\n",
    "        self.stream = deque()\n",
    "        self.half_window = k\n",
    "        \n",
    "        \n",
    "    def update(self,x):\n",
    "        \"\"\" Computes the sliding average after having seen element x \n",
    "        \n",
    "        Args:\n",
    "            x (float): the next element in the stream to view\n",
    "            \n",
    "        Returns: \n",
    "            (float): the new sliding average after having seen element x, if it can be calculated\n",
    "        \"\"\"\n",
    "        if len(self.stream) != (2*self.half_window + 1):\n",
    "            self.stream.append(x)\n",
    "        else:\n",
    "            self.stream.popleft()\n",
    "            self.stream.append(x)\n",
    "        if len(self.stream) <= self.half_window:\n",
    "            return None\n",
    "        else:\n",
    "            curr_len = 0\n",
    "            curr_sum = 0.0\n",
    "            for num in self.stream:\n",
    "                if num:\n",
    "                    curr_len += 1\n",
    "                    curr_sum += num\n",
    "            if curr_len > 0:\n",
    "                return (curr_sum / curr_len)\n",
    "            else:\n",
    "                return None\n",
    "    \n",
    "\n",
    "def compute_sliding_averages(s, k):\n",
    "    \"\"\" Computes the sliding averages for a given Pandas series using the SlidingAverage class. \n",
    "    \n",
    "    Args:\n",
    "        s (pd.Series): a Pandas series for which the sliding average needs to be calculated\n",
    "        k (int): the half-width of the sliding average window \n",
    "        \n",
    "    Returns:\n",
    "        (pd.Series): a Pandas series of the sliding averages\n",
    "    \n",
    "    \"\"\"\n",
    "    sliding_avg_list = []\n",
    "    sliding_avg_obj = SlidingAverage(k)\n",
    "    for num in s:\n",
    "        sliding_avg = sliding_avg_obj.update(num)\n",
    "        if sliding_avg:\n",
    "            sliding_avg_list.append(sliding_avg)\n",
    "    for i in range(k):\n",
    "        sliding_avg = sliding_avg_obj.update(None)\n",
    "        if sliding_avg:\n",
    "            sliding_avg_list.append(sliding_avg)\n",
    "    return pd.Series(sliding_avg_list)\n",
    "        \n",
    "    \n",
    "\n",
    "# Test your code!\n",
    "compute_sliding_averages(pd.Series([1,2,3,4,5,6]),1)\n",
    "\n",
    "# sliding_avg = SlidingAverage(1)\n",
    "# stream_list = [1,2,3,4,5]\n",
    "# for num in stream_list:\n",
    "#     print(sliding_avg.update(num))\n",
    "# print(sliding_avg.update(None))\n",
    "# print(sliding_avg.update(None))"
   ]
  },
  {
   "cell_type": "markdown",
   "metadata": {},
   "source": [
    "## Part 4 Time Series Visualizations\n",
    "\n",
    "Time series data is typically displayed as signals over time. For example, this could be the speed of the bus over time, or the number of minutes behind or ahead of schedule a bus is. "
   ]
  },
  {
   "cell_type": "code",
   "execution_count": 38,
   "metadata": {},
   "outputs": [
    {
     "name": "stderr",
     "output_type": "stream",
     "text": [
      "/home/neeraj/anaconda3/lib/python3.6/site-packages/ipykernel_launcher.py:4: UserWarning: \n",
      "This call to matplotlib.use() has no effect because the backend has already\n",
      "been chosen; matplotlib.use() must be called *before* pylab, matplotlib.pyplot,\n",
      "or matplotlib.backends is imported for the first time.\n",
      "\n",
      "The backend was *originally* set to 'module://ipykernel.pylab.backend_inline' by the following code:\n",
      "  File \"/home/neeraj/anaconda3/lib/python3.6/runpy.py\", line 193, in _run_module_as_main\n",
      "    \"__main__\", mod_spec)\n",
      "  File \"/home/neeraj/anaconda3/lib/python3.6/runpy.py\", line 85, in _run_code\n",
      "    exec(code, run_globals)\n",
      "  File \"/home/neeraj/anaconda3/lib/python3.6/site-packages/ipykernel_launcher.py\", line 16, in <module>\n",
      "    app.launch_new_instance()\n",
      "  File \"/home/neeraj/anaconda3/lib/python3.6/site-packages/traitlets/config/application.py\", line 658, in launch_instance\n",
      "    app.start()\n",
      "  File \"/home/neeraj/anaconda3/lib/python3.6/site-packages/ipykernel/kernelapp.py\", line 486, in start\n",
      "    self.io_loop.start()\n",
      "  File \"/home/neeraj/anaconda3/lib/python3.6/site-packages/tornado/platform/asyncio.py\", line 127, in start\n",
      "    self.asyncio_loop.run_forever()\n",
      "  File \"/home/neeraj/anaconda3/lib/python3.6/asyncio/base_events.py\", line 422, in run_forever\n",
      "    self._run_once()\n",
      "  File \"/home/neeraj/anaconda3/lib/python3.6/asyncio/base_events.py\", line 1432, in _run_once\n",
      "    handle._run()\n",
      "  File \"/home/neeraj/anaconda3/lib/python3.6/asyncio/events.py\", line 145, in _run\n",
      "    self._callback(*self._args)\n",
      "  File \"/home/neeraj/anaconda3/lib/python3.6/site-packages/tornado/platform/asyncio.py\", line 117, in _handle_events\n",
      "    handler_func(fileobj, events)\n",
      "  File \"/home/neeraj/anaconda3/lib/python3.6/site-packages/tornado/stack_context.py\", line 276, in null_wrapper\n",
      "    return fn(*args, **kwargs)\n",
      "  File \"/home/neeraj/anaconda3/lib/python3.6/site-packages/zmq/eventloop/zmqstream.py\", line 450, in _handle_events\n",
      "    self._handle_recv()\n",
      "  File \"/home/neeraj/anaconda3/lib/python3.6/site-packages/zmq/eventloop/zmqstream.py\", line 480, in _handle_recv\n",
      "    self._run_callback(callback, msg)\n",
      "  File \"/home/neeraj/anaconda3/lib/python3.6/site-packages/zmq/eventloop/zmqstream.py\", line 432, in _run_callback\n",
      "    callback(*args, **kwargs)\n",
      "  File \"/home/neeraj/anaconda3/lib/python3.6/site-packages/tornado/stack_context.py\", line 276, in null_wrapper\n",
      "    return fn(*args, **kwargs)\n",
      "  File \"/home/neeraj/anaconda3/lib/python3.6/site-packages/ipykernel/kernelbase.py\", line 283, in dispatcher\n",
      "    return self.dispatch_shell(stream, msg)\n",
      "  File \"/home/neeraj/anaconda3/lib/python3.6/site-packages/ipykernel/kernelbase.py\", line 233, in dispatch_shell\n",
      "    handler(stream, idents, msg)\n",
      "  File \"/home/neeraj/anaconda3/lib/python3.6/site-packages/ipykernel/kernelbase.py\", line 399, in execute_request\n",
      "    user_expressions, allow_stdin)\n",
      "  File \"/home/neeraj/anaconda3/lib/python3.6/site-packages/ipykernel/ipkernel.py\", line 208, in do_execute\n",
      "    res = shell.run_cell(code, store_history=store_history, silent=silent)\n",
      "  File \"/home/neeraj/anaconda3/lib/python3.6/site-packages/ipykernel/zmqshell.py\", line 537, in run_cell\n",
      "    return super(ZMQInteractiveShell, self).run_cell(*args, **kwargs)\n",
      "  File \"/home/neeraj/anaconda3/lib/python3.6/site-packages/IPython/core/interactiveshell.py\", line 2662, in run_cell\n",
      "    raw_cell, store_history, silent, shell_futures)\n",
      "  File \"/home/neeraj/anaconda3/lib/python3.6/site-packages/IPython/core/interactiveshell.py\", line 2785, in _run_cell\n",
      "    interactivity=interactivity, compiler=compiler, result=result)\n",
      "  File \"/home/neeraj/anaconda3/lib/python3.6/site-packages/IPython/core/interactiveshell.py\", line 2903, in run_ast_nodes\n",
      "    if self.run_code(code, result):\n",
      "  File \"/home/neeraj/anaconda3/lib/python3.6/site-packages/IPython/core/interactiveshell.py\", line 2963, in run_code\n",
      "    exec(code_obj, self.user_global_ns, self.user_ns)\n",
      "  File \"<ipython-input-29-f39f29283bd6>\", line 8, in <module>\n",
      "    get_ipython().run_line_magic('matplotlib', 'inline')\n",
      "  File \"/home/neeraj/anaconda3/lib/python3.6/site-packages/IPython/core/interactiveshell.py\", line 2131, in run_line_magic\n",
      "    result = fn(*args,**kwargs)\n",
      "  File \"<decorator-gen-107>\", line 2, in matplotlib\n",
      "  File \"/home/neeraj/anaconda3/lib/python3.6/site-packages/IPython/core/magic.py\", line 187, in <lambda>\n",
      "    call = lambda f, *a, **k: f(*a, **k)\n",
      "  File \"/home/neeraj/anaconda3/lib/python3.6/site-packages/IPython/core/magics/pylab.py\", line 99, in matplotlib\n",
      "    gui, backend = self.shell.enable_matplotlib(args.gui)\n",
      "  File \"/home/neeraj/anaconda3/lib/python3.6/site-packages/IPython/core/interactiveshell.py\", line 3051, in enable_matplotlib\n",
      "    pt.activate_matplotlib(backend)\n",
      "  File \"/home/neeraj/anaconda3/lib/python3.6/site-packages/IPython/core/pylabtools.py\", line 311, in activate_matplotlib\n",
      "    matplotlib.pyplot.switch_backend(backend)\n",
      "  File \"/home/neeraj/anaconda3/lib/python3.6/site-packages/matplotlib/pyplot.py\", line 231, in switch_backend\n",
      "    matplotlib.use(newbackend, warn=False, force=True)\n",
      "  File \"/home/neeraj/anaconda3/lib/python3.6/site-packages/matplotlib/__init__.py\", line 1410, in use\n",
      "    reload(sys.modules['matplotlib.backends'])\n",
      "  File \"/home/neeraj/anaconda3/lib/python3.6/importlib/__init__.py\", line 166, in reload\n",
      "    _bootstrap._exec(spec, module)\n",
      "  File \"/home/neeraj/anaconda3/lib/python3.6/site-packages/matplotlib/backends/__init__.py\", line 16, in <module>\n",
      "    line for line in traceback.format_stack()\n",
      "\n",
      "\n",
      "  after removing the cwd from sys.path.\n"
     ]
    }
   ],
   "source": [
    "import matplotlib\n",
    "# Use svg backend for better quality\n",
    "# AUTOLAB_IGNORE_START\n",
    "matplotlib.use(\"svg\")\n",
    "# AUTOLAB_IGNORE_STOP\n",
    "import matplotlib.pyplot as plt\n",
    "# AUTOLAB_IGNORE_START\n",
    "%matplotlib inline\n",
    "plt.style.use('ggplot')\n",
    "matplotlib.rcParams['figure.figsize'] = (10.0, 5.0) # you should adjust this to fit your screen\n",
    "# AUTOLAB_IGNORE_STOP"
   ]
  },
  {
   "cell_type": "markdown",
   "metadata": {},
   "source": [
    "As the first example, you'll plot the speed of the bus as a function of time. Here, we'll overlay multiple routes on a single plot. Can you determine the direction of the bus (to or away from downtown) from the signal? \n",
    "\n",
    "### Specification:\n",
    "1. Plot the sliding average speed of each bus, using a new line for each bus. \n",
    "2. Return a list of the resulting `Line2D` objects plot. The order of the line objects should correspond with the order of the trips. \n",
    "3. Do not call `plt.show()` inside the function. Autolab will not X out of any plotted images. \n",
    "4. We want you to plot the bus as a function of time, and not of datetime (these are different python types) which is the index of your dataframe. You can get the time with df.index.time. "
   ]
  },
  {
   "cell_type": "code",
   "execution_count": 39,
   "metadata": {
    "scrolled": true
   },
   "outputs": [],
   "source": [
    "from matplotlib.lines import Line2D\n",
    "def plot_trip(trips, k):\n",
    "    \"\"\" Plots the sliding average speed as a function of time \n",
    "    \n",
    "    Args: \n",
    "        trip (list): list of trip DataFrames to plot\n",
    "        k (int): the half-width of the sliding average window\n",
    "    \"\"\"\n",
    "    lines = []\n",
    "    for trip in trips:\n",
    "        line = Line2D(trip['tmstmp'].dt.time, compute_sliding_averages(trip['spd'],k))\n",
    "        lines.append(line)\n",
    "    return lines\n",
    "\n",
    "\n",
    "# Play around with these values. Can you differentiate the buses going towards downtown from the buses going away from downtown?\n",
    "# AUTOLAB_IGNORE_START\n",
    "lines = plot_trip(all_trips['61A'][:1], 15)\n",
    "lines[0]\n",
    "#print(lines)\n",
    "plt.show();\n",
    "# AUTOLAB_IGNORE_STOP"
   ]
  },
  {
   "cell_type": "markdown",
   "metadata": {
    "scrolled": true
   },
   "source": [
    "We can also gain information from overall trends from averaging many data points. In the following function, you will plot the average speed of all buses at regular time intervals throughout the day. \n",
    "\n",
    "### Specification\n",
    "1. You should group the rows of the dataframe by taking the timestamp modulo t and ignoring the day/month/year (since the data was collected at 1 minute intervals, this means that t=1 corresponds to averaging one entry per day recorded).\n",
    "2. Return the PathCollection object of your plot. For example, if you create the plot using the matplotlib command `scatter(...)`, return the result of this function call. \n",
    "3. Do not call `plt.show()` inside the function. Autolab will not X out of any plotted images. "
   ]
  },
  {
   "cell_type": "code",
   "execution_count": 112,
   "metadata": {
    "scrolled": true
   },
   "outputs": [
    {
     "data": {
      "image/png": "[encoded data removed]",
      "text/plain": [
       "<Figure size 720x360 with 1 Axes>"
      ]
     },
     "metadata": {},
     "output_type": "display_data"
    }
   ],
   "source": [
    "import datetime\n",
    "\n",
    "def plot_avg_spd(df, t):\n",
    "    \"\"\" Plot the average speed of all recorded buses within t minute intervals \n",
    "    Args: \n",
    "        df (pd.DataFrame): dataframe of bus data\n",
    "        t (int): the granularity of each time period (in minutes) for which an average is speed is calculated\n",
    "    \"\"\"\n",
    "    df1 = df.copy()\n",
    "    df1['tmstmp'] = df1['tmstmp'].apply(lambda x: (x.minute % t))\n",
    "    df1 = df1[['tmstmp','spd']]\n",
    "    df1 = df1.groupby(['tmstmp']).mean()\n",
    "    return plt.scatter(df1.index,df1['spd'])\n",
    "\n",
    "# AUTOLAB_IGNORE_START\n",
    "s = plot_avg_spd(vdf, 50)\n",
    "plt.show()\n",
    "# AUTOLAB_IGNORE_STOP"
   ]
  },
  {
   "cell_type": "code",
   "execution_count": null,
   "metadata": {
    "collapsed": true
   },
   "outputs": [],
   "source": []
  }
 ],
 "metadata": {
  "anaconda-cloud": {},
  "kernelspec": {
   "display_name": "Python 3",
   "language": "python",
   "name": "python3"
  },
  "language_info": {
   "codemirror_mode": {
    "name": "ipython",
    "version": 3
   },
   "file_extension": ".py",
   "mimetype": "text/x-python",
   "name": "python",
   "nbconvert_exporter": "python",
   "pygments_lexer": "ipython3",
   "version": "3.6.5"
  }
 },
 "nbformat": 4,
 "nbformat_minor": 1
}
